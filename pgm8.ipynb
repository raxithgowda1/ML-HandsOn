{
 "cells": [
  {
   "cell_type": "code",
   "execution_count": 12,
   "id": "4ecd7a80-fd34-43c8-aa7b-de9e98e213a6",
   "metadata": {},
   "outputs": [
    {
     "name": "stdout",
     "output_type": "stream",
     "text": [
      "Features:\n",
      "    sepal-length  sepal-width  petal-length  petal-width\n",
      "0           5.1          3.5           1.4          0.2\n",
      "1           4.9          3.0           1.4          0.2\n",
      "2           4.7          3.2           1.3          0.2\n",
      "3           4.6          3.1           1.5          0.2\n",
      "4           5.0          3.6           1.4          0.2\n",
      "-------------------------------------------------------------------------\n",
      "original_label           predicted_label          correct/wrong            \n",
      "-------------------------------------------------------------------------\n",
      "Iris-versicolor          Iris-versicolor          Correct                  \n",
      "Iris-setosa              Iris-setosa              Correct                  \n",
      "Iris-virginica           Iris-virginica           Correct                  \n",
      "Iris-versicolor          Iris-versicolor          Correct                  \n",
      "Iris-versicolor          Iris-versicolor          Correct                  \n",
      "Iris-setosa              Iris-setosa              Correct                  \n",
      "Iris-versicolor          Iris-versicolor          Correct                  \n",
      "Iris-virginica           Iris-virginica           Correct                  \n",
      "Iris-versicolor          Iris-versicolor          Correct                  \n",
      "Iris-versicolor          Iris-versicolor          Correct                  \n",
      "Iris-virginica           Iris-virginica           Correct                  \n",
      "Iris-setosa              Iris-setosa              Correct                  \n",
      "Iris-setosa              Iris-setosa              Correct                  \n",
      "Iris-setosa              Iris-setosa              Correct                  \n",
      "Iris-setosa              Iris-setosa              Correct                  \n",
      "-------------------------------------------------------------------------\n",
      "confusion_matrix [[6 0 0]\n",
      " [0 6 0]\n",
      " [0 0 3]]\n",
      "classification_report                  precision    recall  f1-score   support\n",
      "\n",
      "    Iris-setosa       1.00      1.00      1.00         6\n",
      "Iris-versicolor       1.00      1.00      1.00         6\n",
      " Iris-virginica       1.00      1.00      1.00         3\n",
      "\n",
      "       accuracy                           1.00        15\n",
      "      macro avg       1.00      1.00      1.00        15\n",
      "   weighted avg       1.00      1.00      1.00        15\n",
      "\n",
      "accuracy 1.0\n"
     ]
    }
   ],
   "source": [
    "import numpy as np\n",
    "import pandas as pd\n",
    "from sklearn.neighbors import KNeighborsClassifier\n",
    "from sklearn.model_selection import train_test_split\n",
    "from sklearn import metrics\n",
    "\n",
    "names = ['sepal-length','sepal-width','petal-length','petal-width','Class']\n",
    "\n",
    "data = pd.read_csv(\"8-dataset.csv\",names = names)\n",
    "x = data.iloc[:,:-1]\n",
    "y = data.iloc[:,-1]\n",
    "print(\"Features:\\n\", x.head())\n",
    "\n",
    "x_train,x_test,y_train,y_test = train_test_split(x,y,test_size = 0.10,random_state = 42)\n",
    "\n",
    "classifier = KNeighborsClassifier(n_neighbors=5)\n",
    "classifier.fit(x_train,y_train)\n",
    "y_pred = classifier.predict(x_test)\n",
    "\n",
    "print('-'*73)\n",
    "print(f'{\"original_label\":<25}{\"predicted_label\":<25}{\"correct/wrong\":<25}')\n",
    "print('-'*73)\n",
    "\n",
    "for i,label in enumerate(y_test):\n",
    "    correct_wrong = \"Correct\" if label==y_pred[i] else \"Wrong\"\n",
    "    print(f'{label:<25}{y_pred[i]:<25}{correct_wrong:<25}')\n",
    "\n",
    "print('-'*73)\n",
    "print(\"confusion_matrix\",metrics.confusion_matrix(y_test,y_pred))\n",
    "print(\"classification_report\",metrics.classification_report(y_test,y_pred))\n",
    "print(\"accuracy\",metrics.accuracy_score(y_test,y_pred))"
   ]
  },
  {
   "cell_type": "code",
   "execution_count": null,
   "id": "ad5ef0b0-1175-4e6a-91c6-7d7e658ff570",
   "metadata": {},
   "outputs": [],
   "source": []
  }
 ],
 "metadata": {
  "kernelspec": {
   "display_name": "Python 3 (ipykernel)",
   "language": "python",
   "name": "python3"
  },
  "language_info": {
   "codemirror_mode": {
    "name": "ipython",
    "version": 3
   },
   "file_extension": ".py",
   "mimetype": "text/x-python",
   "name": "python",
   "nbconvert_exporter": "python",
   "pygments_lexer": "ipython3",
   "version": "3.11.7"
  }
 },
 "nbformat": 4,
 "nbformat_minor": 5
}
