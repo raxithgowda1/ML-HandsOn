{
 "cells": [
  {
   "cell_type": "code",
   "execution_count": 3,
   "id": "43aaac3d-95d5-4850-9e83-6b20e64b1901",
   "metadata": {},
   "outputs": [
    {
     "name": "stdout",
     "output_type": "stream",
     "text": [
      "Attributes: ['weather', 'temperature', 'humidity', 'wind', 'play football']\n",
      "\n",
      "Training Data:\n",
      "    weather temperature humidity    wind play football\n",
      "2   cloudy         hot     high    weak           yes\n",
      "1    sunny         hot     high  strong            no\n",
      "13    rain        mild     high  strong            no\n",
      "4     rain        cool   normal    weak           yes\n",
      "7    sunny        mild     high    weak            no\n",
      "10   sunny        mild   normal  strong           yes\n",
      "3     rain        mild     high    weak           yes\n",
      "6   cloudy        cool   normal  strong           yes\n",
      "\n",
      "Test Data:\n",
      "    weather temperature humidity    wind play football\n",
      "9     rain        mild   normal    weak           yes\n",
      "11  cloudy        mild     high  strong           yes\n",
      "0    sunny         hot     high    weak            no\n",
      "12  cloudy         hot   normal    weak           yes\n",
      "5     rain        cool   normal  strong            no\n",
      "8    sunny        cool   normal    weak           yes\n",
      "\n",
      "Training Size: 8, Test Size: 6\n",
      "Yes: 5 (0.625), No: 3 (0.375)\n",
      "\n",
      "Instance Prediction Target\n",
      "10\tyes\tyes\n",
      "12\tyes\tyes\n",
      "1\tno\tno\n",
      "13\tyes\tyes\n",
      "6\tyes\tno\n",
      "9\tyes\tyes\n",
      "Accuracy: 83.33333333333334%\n"
     ]
    },
    {
     "name": "stderr",
     "output_type": "stream",
     "text": [
      "C:\\Users\\raksh\\AppData\\Local\\Temp\\ipykernel_9920\\1478043626.py:33: FutureWarning: Series.__getitem__ treating keys as positions is deprecated. In a future version, integer keys will always be treated as labels (consistent with DataFrame behavior). To access a value by position, use `ser.iloc[pos]`\n",
      "  correct_predictions += (prediction == test_instance[-1])\n",
      "C:\\Users\\raksh\\AppData\\Local\\Temp\\ipykernel_9920\\1478043626.py:34: FutureWarning: Series.__getitem__ treating keys as positions is deprecated. In a future version, integer keys will always be treated as labels (consistent with DataFrame behavior). To access a value by position, use `ser.iloc[pos]`\n",
      "  print(f\"{i + 1}\\t{prediction}\\t{test_instance[-1]}\")\n"
     ]
    }
   ],
   "source": [
    "import numpy as np\n",
    "import pandas as pd\n",
    "from sklearn.model_selection import train_test_split\n",
    "\n",
    "# Load data\n",
    "data = pd.read_csv(\"3-dataset.csv\").replace('?', np.nan)\n",
    "metadata = data.columns.tolist()\n",
    "print(\"Attributes:\", metadata)\n",
    "\n",
    "# Split data\n",
    "train_data, test_data = train_test_split(data, test_size=0.4, random_state=42)\n",
    "print(\"\\nTraining Data:\\n\", train_data)\n",
    "print(\"\\nTest Data:\\n\", test_data)\n",
    "\n",
    "def classify(train, test):\n",
    "    total_size = len(train)\n",
    "    count_yes = np.sum(train.iloc[:, -1] == 'yes')\n",
    "    count_no = total_size - count_yes\n",
    "    prob_yes, prob_no = count_yes / total_size, count_no / total_size\n",
    "    \n",
    "    print(f\"\\nTraining Size: {total_size}, Test Size: {len(test)}\")\n",
    "    print(f\"Yes: {count_yes} ({prob_yes}), No: {count_no} ({prob_no})\")\n",
    "    \n",
    "    correct_predictions = 0\n",
    "    print(\"\\nInstance Prediction Target\")\n",
    "    for i, test_instance in test.iterrows():\n",
    "        prob0 = (train.iloc[:, :-1][train.iloc[:, -1] == 'no'] == test_instance[:-1]).mean()\n",
    "        prob1 = (train.iloc[:, :-1][train.iloc[:, -1] == 'yes'] == test_instance[:-1]).mean()\n",
    "        prob_no_combined = prob_no * prob0.prod()\n",
    "        prob_yes_combined = prob_yes * prob1.prod()\n",
    "        \n",
    "        prediction = 'yes' if prob_yes_combined > prob_no_combined else 'no'\n",
    "        correct_predictions += (prediction == test_instance[-1])\n",
    "        print(f\"{i + 1}\\t{prediction}\\t{test_instance[-1]}\")\n",
    "    \n",
    "    accuracy = correct_predictions / len(test) * 100\n",
    "    print(f\"Accuracy: {accuracy}%\")\n",
    "\n",
    "classify(train_data, test_data)"
   ]
  },
  {
   "cell_type": "code",
   "execution_count": null,
   "id": "ff1054b1-d28f-400e-a0b9-5ffb0454379f",
   "metadata": {},
   "outputs": [],
   "source": []
  }
 ],
 "metadata": {
  "kernelspec": {
   "display_name": "Python 3 (ipykernel)",
   "language": "python",
   "name": "python3"
  },
  "language_info": {
   "codemirror_mode": {
    "name": "ipython",
    "version": 3
   },
   "file_extension": ".py",
   "mimetype": "text/x-python",
   "name": "python",
   "nbconvert_exporter": "python",
   "pygments_lexer": "ipython3",
   "version": "3.11.7"
  }
 },
 "nbformat": 4,
 "nbformat_minor": 5
}
