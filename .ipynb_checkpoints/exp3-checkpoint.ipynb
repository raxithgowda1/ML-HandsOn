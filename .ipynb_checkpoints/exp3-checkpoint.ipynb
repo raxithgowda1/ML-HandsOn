{
 "cells": [
  {
   "cell_type": "code",
   "execution_count": 33,
   "id": "6c02dd5a",
   "metadata": {},
   "outputs": [],
   "source": [
    "import pandas as pd"
   ]
  },
  {
   "cell_type": "code",
   "execution_count": 34,
   "id": "c41f1e9b",
   "metadata": {},
   "outputs": [
    {
     "name": "stdout",
     "output_type": "stream",
     "text": [
      "   weather temperature humidity    wind  play football\n",
      "0    sunny         hot     high    weak             no\n",
      "1    sunny         hot     high  strong             no\n",
      "2   cloudy         hot     high    weak            yes\n",
      "3     rain        mild     high    weak            yes\n",
      "4     rain        cool   normal    weak            yes\n",
      "5     rain        cool   normal  strong             no\n",
      "6   cloudy        cool   normal  strong            yes\n",
      "7    sunny        mild     high    weak             no\n",
      "8    sunny        cool   normal    weak            yes\n",
      "9     rain        mild   normal    weak            yes\n",
      "10   sunny        mild   normal  strong            yes\n",
      "11  cloudy        mild     high  strong            yes\n",
      "12  cloudy         hot   normal    weak            yes\n",
      "13    rain        mild     high  strong             no\n"
     ]
    }
   ],
   "source": [
    "df = pd.read_csv(\"dataset.csv\")\n",
    "print(df)"
   ]
  },
  {
   "cell_type": "code",
   "execution_count": 35,
   "id": "27e59a27",
   "metadata": {},
   "outputs": [],
   "source": [
    "import numpy as np\n",
    "import math\n",
    "import csv"
   ]
  },
  {
   "cell_type": "code",
   "execution_count": 36,
   "id": "a3664e02",
   "metadata": {},
   "outputs": [],
   "source": [
    "class Node:\n",
    "    def __init__(self,attribute):\n",
    "        self.attribute = attribute\n",
    "        self.children  = []\n",
    "        self.answer = None\n",
    "        "
   ]
  },
  {
   "cell_type": "code",
   "execution_count": 37,
   "id": "03b3ef3e",
   "metadata": {},
   "outputs": [],
   "source": [
    "#def read_data(filename):\n",
    "  #  with open(filename,'r') as csvfile:\n",
    "   #     datareader = csv.reader(csvfile,delimiter=',')\n",
    "    #    headers = next(datareader)\n",
    "   #     traindata = [row for row in datareader]\n",
    "   # return headers,traindata"
   ]
  },
  {
   "cell_type": "code",
   "execution_count": 38,
   "id": "ba4fcba8",
   "metadata": {},
   "outputs": [],
   "source": [
    "#def read_test_data(filename):\n",
    "   # with open(filename,'r') as csvfile:\n",
    "      #  datareader = csv.reader(csvfile,delimiter=',')\n",
    "      #  testdata = [row for row in datareader]\n",
    "   # return testdata"
   ]
  },
  {
   "cell_type": "code",
   "execution_count": 39,
   "id": "bb301435",
   "metadata": {},
   "outputs": [],
   "source": [
    "def subtables(data,col,delete):\n",
    "    dict = {}\n",
    "    items = np.unique(data[:,col])\n",
    "    for item in items:\n",
    "        dict[item] = data[data[:,col]==item]\n",
    "        if delete:\n",
    "            dict[item] = np.delete(dict[item],col,axis = 1)\n",
    "    return items,dict"
   ]
  },
  {
   "cell_type": "code",
   "execution_count": null,
   "id": "806b5a4f",
   "metadata": {},
   "outputs": [],
   "source": [
    "\n"
   ]
  },
  {
   "cell_type": "code",
   "execution_count": 40,
   "id": "a0cc9bb0",
   "metadata": {},
   "outputs": [],
   "source": [
    "def entropy(S):\n",
    "    items,counts = np.unique(S,return_counts = True)\n",
    "    probabilities = counts/len(S)\n",
    "    return -np.sum(probabilities*np.log2(probabilities))"
   ]
  },
  {
   "cell_type": "code",
   "execution_count": 41,
   "id": "260a1ec2",
   "metadata": {},
   "outputs": [],
   "source": [
    "def gain_ratio(data,col):\n",
    "    total_entropy = entropy(data[:,-1])\n",
    "    items,dict = subtables(data,col,delete=False)\n",
    "    subset_entropy = 0\n",
    "    intrinsic_value = 0\n",
    "    total_size = data.shape[0]\n",
    "    for item in items:\n",
    "        subset = dict[item]\n",
    "        ratio = len(subset)/total_size\n",
    "        subset_entropy += ratio * entropy(subset[:,-1])\n",
    "        intrinsic_value -= ratio * math.log(ratio,2)\n",
    "    if intrinsic_value == 0:\n",
    "        return 0\n",
    "    information_gain = total_entropy - subset_entropy\n",
    "    return information_gain/intrinsic_value\n",
    "\n",
    "\n"
   ]
  },
  {
   "cell_type": "code",
   "execution_count": 42,
   "id": "fc227eae",
   "metadata": {},
   "outputs": [],
   "source": [
    "def create_node(data,metadata):\n",
    "    if len(np.unique(data[:,-1])) == 1:\n",
    "        node = Node(None)\n",
    "        node.answer = np.unique(data[:,-1])[0]\n",
    "        return node\n",
    "    gains = [gain_ratio(data,col) for col in range(data.shape[1] -1)]\n",
    "    split = np.argmax(gains)\n",
    "    node = Node(metadata[split])\n",
    "    items,dict = subtables(data,split,delete = True)\n",
    "    for item in items:\n",
    "        child = create_node(dict[item],np.delete(metadata,split))\n",
    "        node.children.append((item,child))\n",
    "    return node"
   ]
  },
  {
   "cell_type": "code",
   "execution_count": 43,
   "id": "60685a84",
   "metadata": {},
   "outputs": [],
   "source": [
    "def predict(node,instance,metadata):\n",
    "    if node.answer is not None:\n",
    "        return node.answer\n",
    "    value = instance[metadata.index(node.attribute)]\n",
    "    for item,child in node.children:\n",
    "        if item == value:\n",
    "            return predict(child,instance,metadata)"
   ]
  },
  {
   "cell_type": "code",
   "execution_count": 44,
   "id": "f9623b24",
   "metadata": {},
   "outputs": [],
   "source": [
    "def empty(size):\n",
    "    return \"   \" * size\n",
    "def print_tree(node,level):\n",
    "    if node.answer is not None:\n",
    "        print(empty(level),node.answer)\n",
    "        return\n",
    "    print(empty(level),node.attribute)\n",
    "    for value,n in node.children:\n",
    "        print(empty(level+1),value)\n",
    "        print_tree(n,level + 2)\n"
   ]
  },
  {
   "cell_type": "code",
   "execution_count": 45,
   "id": "a632f1e4",
   "metadata": {},
   "outputs": [],
   "source": [
    "def print_predictions(node,testdata,metadata):\n",
    "    test_instances = testdata[1:]\n",
    "    for instance in test_instances:\n",
    "        prediction = predict(node,instance,metadata)\n",
    "        print(f\"The test instance:{instance}\")\n",
    "        print(f\"The predicted label:{prediction}\")"
   ]
  },
  {
   "cell_type": "code",
   "execution_count": 46,
   "id": "dd1638c5",
   "metadata": {},
   "outputs": [
    {
     "name": "stdout",
     "output_type": "stream",
     "text": [
      "Decision tree structure\n",
      " weather\n",
      "    cloudy\n",
      "       yes\n",
      "    rain\n",
      "       wind\n",
      "          strong\n",
      "             no\n",
      "          weak\n",
      "             yes\n",
      "    sunny\n",
      "       humidity\n",
      "          high\n",
      "             no\n",
      "          normal\n",
      "             yes\n",
      "\n",
      "Predictions for test data\n",
      "The test instance:['sunny', 'hot', 'high', 'weak', '']\n",
      "The predicted label:no\n",
      "The test instance:['sunny', 'hot', 'high', 'strong', '']\n",
      "The predicted label:no\n",
      "The test instance:['cloudy', 'hot', 'high', 'weak', '']\n",
      "The predicted label:yes\n"
     ]
    }
   ],
   "source": [
    "metadata,traindata = read_data(\"dataset.csv\")\n",
    "test_data = read_test_data(\"test.csv\")\n",
    "data = np.array(traindata)\n",
    "node = create_node(data,metadata)\n",
    "print(\"Decision tree structure\")\n",
    "print_tree(node,0)\n",
    "print(\"\\nPredictions for test data\")\n",
    "print_predictions(node,test_data,metadata)"
   ]
  },
  {
   "cell_type": "code",
   "execution_count": 47,
   "id": "7fe95bc8",
   "metadata": {},
   "outputs": [
    {
     "name": "stdout",
     "output_type": "stream",
     "text": [
      "['weather', 'temperature', 'humidity', 'wind', ' play football']\n"
     ]
    }
   ],
   "source": [
    "print(metadata)"
   ]
  },
  {
   "cell_type": "code",
   "execution_count": 48,
   "id": "ce6fc2e7",
   "metadata": {},
   "outputs": [
    {
     "name": "stdout",
     "output_type": "stream",
     "text": [
      "[['sunny', 'hot', 'high', 'weak', 'no'], ['sunny', 'hot', 'high', 'strong', 'no'], ['cloudy', 'hot', 'high', 'weak', 'yes'], ['rain', 'mild', 'high', 'weak', 'yes'], ['rain', 'cool', 'normal', 'weak', 'yes'], ['rain', 'cool', 'normal', 'strong', 'no'], ['cloudy', 'cool', 'normal', 'strong', 'yes'], ['sunny', 'mild', 'high', 'weak', 'no'], ['sunny', 'cool', 'normal', 'weak', 'yes'], ['rain', 'mild', 'normal', 'weak', 'yes'], ['sunny', 'mild', 'normal', 'strong', 'yes'], ['cloudy', 'mild', 'high', 'strong', 'yes'], ['cloudy', 'hot', 'normal', 'weak', 'yes'], ['rain', 'mild', 'high', 'strong', 'no']]\n"
     ]
    }
   ],
   "source": [
    "print(traindata)"
   ]
  },
  {
   "cell_type": "code",
   "execution_count": null,
   "id": "53acb8f8",
   "metadata": {},
   "outputs": [],
   "source": []
  },
  {
   "cell_type": "code",
   "execution_count": null,
   "id": "4fd97a76",
   "metadata": {},
   "outputs": [],
   "source": []
  }
 ],
 "metadata": {
  "kernelspec": {
   "display_name": "Python 3 (ipykernel)",
   "language": "python",
   "name": "python3"
  },
  "language_info": {
   "codemirror_mode": {
    "name": "ipython",
    "version": 3
   },
   "file_extension": ".py",
   "mimetype": "text/x-python",
   "name": "python",
   "nbconvert_exporter": "python",
   "pygments_lexer": "ipython3",
   "version": "3.9.13"
  }
 },
 "nbformat": 4,
 "nbformat_minor": 5
}
