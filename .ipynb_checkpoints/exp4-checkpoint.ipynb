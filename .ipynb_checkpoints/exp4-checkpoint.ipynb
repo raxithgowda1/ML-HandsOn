{
 "cells": [
  {
   "cell_type": "code",
   "execution_count": 1,
   "id": "aa9db0b6",
   "metadata": {},
   "outputs": [],
   "source": [
    "import numpy as np "
   ]
  },
  {
   "cell_type": "code",
   "execution_count": 3,
   "id": "2e4e904d",
   "metadata": {},
   "outputs": [
    {
     "name": "stdout",
     "output_type": "stream",
     "text": [
      "Input:\n",
      "\n",
      "[[0.66666667 1.        ]\n",
      " [0.33333333 0.55555556]\n",
      " [1.         0.66666667]]\n",
      "\n",
      "\n",
      "Actual Output:\n",
      "\n",
      "[[0.92]\n",
      " [0.86]\n",
      " [0.89]]\n",
      "\n",
      "\n",
      "Predicted Output:\n",
      "\n",
      " [[0.90187603]\n",
      " [0.87464697]\n",
      " [0.89222916]]\n"
     ]
    }
   ],
   "source": [
    "X = np.array(([2,9],[1,5],[3,6]),dtype = float)\n",
    "y = np.array(([92],[86],[89]),dtype = float)\n",
    "X = X/np.amax(X,axis = 0)\n",
    "y = y/100\n",
    "def sigmoid(x):\n",
    "    return 1/(1+np.exp(-x))\n",
    "def derivatives_sigmoid(x):\n",
    "    return x*(1-x)\n",
    "epoch = 5000\n",
    "lr = 0.1\n",
    "inputlayer_neurons = 2\n",
    "hiddenlayer_neurons = 3\n",
    "output_neurons = 1\n",
    "wh = np.random.uniform(size = (inputlayer_neurons,hiddenlayer_neurons))\n",
    "bh = np.random.uniform(size = (1,hiddenlayer_neurons))\n",
    "wout = np.random.uniform(size = (hiddenlayer_neurons,output_neurons))\n",
    "bout = np.random.uniform(size = (1,output_neurons))\n",
    "for i in range(epoch):\n",
    "    hinp1 = np.dot(X,wh)\n",
    "    hinp = hinp1 + bh\n",
    "    hlayer_act = sigmoid(hinp)\n",
    "    outinp1 = np.dot(hlayer_act,wout)\n",
    "    outinp = outinp1 + bout\n",
    "    output = sigmoid(outinp)\n",
    "    EO = y-output\n",
    "    outgrad = derivatives_sigmoid(output)\n",
    "    d_output = EO * outgrad\n",
    "    EH = d_output.dot(wout.T)\n",
    "    hiddengrad = derivatives_sigmoid(hlayer_act)\n",
    "    d_hiddenlayer = EH * hiddengrad\n",
    "    wout += hlayer_act.T.dot(d_output) * lr\n",
    "    wh += X.T.dot(d_hiddenlayer) * lr\n",
    "print(\"Input:\\n\\n\"+str(X))\n",
    "print(\"\\n\")\n",
    "print(\"Actual Output:\\n\\n\"+str(y))\n",
    "print(\"\\n\")\n",
    "print(\"Predicted Output:\\n\\n\",output)"
   ]
  },
  {
   "cell_type": "code",
   "execution_count": 1,
   "id": "a7a60196",
   "metadata": {},
   "outputs": [
    {
     "name": "stdout",
     "output_type": "stream",
     "text": [
      "Input:\n",
      " [[0.66666667 1.        ]\n",
      " [0.33333333 0.55555556]\n",
      " [1.         0.66666667]]\n",
      "Actual Output:\n",
      " [[0.92]\n",
      " [0.86]\n",
      " [0.89]]\n",
      "Predicted Output:\n",
      " [[0.89603901]\n",
      " [0.87838322]\n",
      " [0.89410308]]\n"
     ]
    }
   ],
   "source": [
    "import numpy as np  # Import the numpy library for array and mathematical operations\n",
    "\n",
    "# Define the input features and target outputs\n",
    "X = np.array([[2, 9], [1, 5], [3, 6]], dtype=float)\n",
    "y = np.array([[92], [86], [89]], dtype=float)\n",
    "\n",
    "# Normalize the input features and target outputs\n",
    "X = X / np.max(X, axis=0)  # Divide each element in X by the maximum value in each column\n",
    "y = y / 100  # Divide each element in y by 100 to normalize\n",
    "\n",
    "# Define the sigmoid activation function and its derivative\n",
    "def sigmoid(x):\n",
    "    return 1 / (1 + np.exp(-x))\n",
    "\n",
    "def derivatives_sigmoid(x):\n",
    "    return x * (1 - x)\n",
    "\n",
    "# Set parameters for the neural network\n",
    "epochs = 5000  # Number of training iterations\n",
    "learning_rate = 0.1  # Learning rate\n",
    "input_neurons = X.shape[1]  # Number of neurons in the input layer (same as number of features)\n",
    "hidden_neurons = 3  # Number of neurons in the hidden layer\n",
    "output_neurons = 1  # Number of neurons in the output layer (same as number of target variables)\n",
    "\n",
    "# Initialize weights and biases with random values\n",
    "weights_input_hidden = np.random.uniform(size=(input_neurons, hidden_neurons))\n",
    "bias_hidden = np.random.uniform(size=(1, hidden_neurons))\n",
    "weights_hidden_output = np.random.uniform(size=(hidden_neurons, output_neurons))\n",
    "bias_output = np.random.uniform(size=(1, output_neurons))\n",
    "\n",
    "# Training the neural network\n",
    "for epoch in range(epochs):\n",
    "    # Forward propagation\n",
    "    hidden_input = np.dot(X, weights_input_hidden) + bias_hidden  # Input to hidden layer\n",
    "    hidden_output = sigmoid(hidden_input)  # Output from hidden layer\n",
    "    \n",
    "    final_input = np.dot(hidden_output, weights_hidden_output) + bias_output  # Input to output layer\n",
    "    final_output = sigmoid(final_input)  # Output from output layer\n",
    "    \n",
    "    # Backward propagation\n",
    "    error_output = y - final_output  # Error at output\n",
    "    delta_output = error_output * derivatives_sigmoid(final_output)  # Gradient at output layer\n",
    "    \n",
    "    error_hidden = delta_output.dot(weights_hidden_output.T)  # Error at hidden layer\n",
    "    delta_hidden = error_hidden * derivatives_sigmoid(hidden_output)  # Gradient at hidden layer\n",
    "    \n",
    "    # Update weights and biases\n",
    "    weights_hidden_output += hidden_output.T.dot(delta_output) * learning_rate\n",
    "    weights_input_hidden += X.T.dot(delta_hidden) * learning_rate\n",
    "    bias_output += np.sum(delta_output, axis=0) * learning_rate\n",
    "    bias_hidden += np.sum(delta_hidden, axis=0) * learning_rate\n",
    "\n",
    "# Print the results\n",
    "print(\"Input:\\n\", X)\n",
    "print(\"Actual Output:\\n\", y)\n",
    "print(\"Predicted Output:\\n\", final_output)\n"
   ]
  },
  {
   "cell_type": "code",
   "execution_count": 1,
   "id": "64e4b4ff",
   "metadata": {},
   "outputs": [
    {
     "name": "stdout",
     "output_type": "stream",
     "text": [
      "Input:\n",
      " [[0.66666667 1.        ]\n",
      " [0.33333333 0.55555556]\n",
      " [1.         0.66666667]]\n",
      "Actual Output:\n",
      " [[0.92]\n",
      " [0.86]\n",
      " [0.89]]\n",
      "Predicted Output:\n",
      " [[0.89375864]\n",
      " [0.87782976]\n",
      " [0.89747691]]\n"
     ]
    }
   ],
   "source": [
    "import numpy as np  # Import numpy for array and math operations\n",
    "\n",
    "# Define input features and target outputs\n",
    "X = np.array([[2, 9], [1, 5], [3, 6]], dtype=float)\n",
    "y = np.array([[92], [86], [89]], dtype=float)\n",
    "\n",
    "# Normalize input features and target outputs\n",
    "X = X / np.max(X, axis=0)  # Normalize X\n",
    "y = y / 100  # Normalize y\n",
    "\n",
    "# Define activation function and its derivative\n",
    "def sigmoid(x):\n",
    "    return 1 / (1 + np.exp(-x))\n",
    "\n",
    "def d_sigmoid(x):\n",
    "    return x * (1 - x)\n",
    "\n",
    "# Set parameters for the neural network\n",
    "epochs = 5000  # Training iterations\n",
    "lr = 0.1  # Learning rate\n",
    "in_neurons = X.shape[1]  # Input layer neurons\n",
    "hid_neurons = 3  # Hidden layer neurons\n",
    "out_neurons = 1  # Output layer neurons\n",
    "\n",
    "# Initialize weights and biases with random values\n",
    "w1 = np.random.uniform(size=(in_neurons, hid_neurons))\n",
    "b1 = np.random.uniform(size=(1, hid_neurons))\n",
    "w2 = np.random.uniform(size=(hid_neurons, out_neurons))\n",
    "b2 = np.random.uniform(size=(1, out_neurons))\n",
    "\n",
    "# Training the neural network\n",
    "for epoch in range(epochs):\n",
    "    # Forward propagation\n",
    "    h_in = np.dot(X, w1) + b1  # Input to hidden layer\n",
    "    h_out = sigmoid(h_in)  # Output from hidden layer\n",
    "    \n",
    "    o_in = np.dot(h_out, w2) + b2  # Input to output layer\n",
    "    o_out = sigmoid(o_in)  # Output from output layer\n",
    "    \n",
    "    # Backward propagation\n",
    "    e_out = y - o_out  # Error at output\n",
    "    d_out = e_out * d_sigmoid(o_out)  # Gradient at output layer\n",
    "    \n",
    "    e_hid = d_out.dot(w2.T)  # Error at hidden layer\n",
    "    d_hid = e_hid * d_sigmoid(h_out)  # Gradient at hidden layer\n",
    "    \n",
    "    # Update weights and biases\n",
    "    w2 += h_out.T.dot(d_out) * lr\n",
    "    w1 += X.T.dot(d_hid) * lr\n",
    "    b2 += np.sum(d_out, axis=0) * lr\n",
    "    b1 += np.sum(d_hid, axis=0) * lr\n",
    "\n",
    "# Print the results\n",
    "print(\"Input:\\n\", X)\n",
    "print(\"Actual Output:\\n\", y)\n",
    "print(\"Predicted Output:\\n\", o_out)\n"
   ]
  },
  {
   "cell_type": "code",
   "execution_count": 1,
   "id": "4528b156",
   "metadata": {},
   "outputs": [],
   "source": [
    "import numpy as np"
   ]
  },
  {
   "cell_type": "code",
   "execution_count": 2,
   "id": "3aae64e2",
   "metadata": {},
   "outputs": [],
   "source": [
    "x = np.array([[2,9],[1,5],[3,6]] ,dtype=float)\n",
    "y = np.array([[92],[86],[89]],dtype=float)"
   ]
  },
  {
   "cell_type": "code",
   "execution_count": 3,
   "id": "a1ec8bdf",
   "metadata": {},
   "outputs": [],
   "source": [
    "x = x/np.max(1,axis=0)\n",
    "y=y/100"
   ]
  },
  {
   "cell_type": "code",
   "execution_count": 10,
   "id": "2933b0f5",
   "metadata": {},
   "outputs": [],
   "source": [
    "def sigmoid(x):\n",
    "    return 1/(1+np.exp(-x))\n",
    "def d_sigmoid(x):\n",
    "    return x*(1-x)"
   ]
  },
  {
   "cell_type": "code",
   "execution_count": 11,
   "id": "743169b7",
   "metadata": {},
   "outputs": [],
   "source": [
    "epochs = 5000\n",
    "lr=0.1\n",
    "in_n = x.shape[1]\n",
    "hid_n = 3\n",
    "out_n = 1"
   ]
  },
  {
   "cell_type": "code",
   "execution_count": 12,
   "id": "aaa865f6",
   "metadata": {},
   "outputs": [],
   "source": [
    "\n",
    "w1 = np.random.uniform(size=(in_n, hid_n))\n",
    "b1 = np.random.uniform(size=(1, hid_n))\n",
    "w2 = np.random.uniform(size=(hid_n, out_n))\n",
    "b2 = np.random.uniform(size=(1, out_n))"
   ]
  },
  {
   "cell_type": "code",
   "execution_count": 13,
   "id": "4cfe3b70",
   "metadata": {},
   "outputs": [],
   "source": [
    "for epoch in range(epochs):\n",
    "    h_in=np.dot(x,w1)+b1\n",
    "    h_out=sigmoid(h_in)\n",
    "    \n",
    "    o_in=np.dot(h_out,w2)+b2\n",
    "    o_out=sigmoid(o_in)\n",
    "    \n",
    "    e_out=y-o_out\n",
    "    d_out=e_out*d_sigmoid(o_out)\n",
    "    \n",
    "    e_hid=d_out.dot(w2.T)\n",
    "    h_hid=e_hid*d_sigmoid(h_out)"
   ]
  },
  {
   "cell_type": "code",
   "execution_count": null,
   "id": "f2166895",
   "metadata": {},
   "outputs": [],
   "source": [
    "    w2\n",
    "    w1\n",
    "    b2\n",
    "    b1"
   ]
  }
 ],
 "metadata": {
  "kernelspec": {
   "display_name": "Python 3 (ipykernel)",
   "language": "python",
   "name": "python3"
  },
  "language_info": {
   "codemirror_mode": {
    "name": "ipython",
    "version": 3
   },
   "file_extension": ".py",
   "mimetype": "text/x-python",
   "name": "python",
   "nbconvert_exporter": "python",
   "pygments_lexer": "ipython3",
   "version": "3.9.13"
  }
 },
 "nbformat": 4,
 "nbformat_minor": 5
}
