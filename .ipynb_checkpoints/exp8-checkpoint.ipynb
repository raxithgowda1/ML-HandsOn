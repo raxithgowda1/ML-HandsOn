{
 "cells": [
  {
   "cell_type": "code",
   "execution_count": 4,
   "id": "3241314d",
   "metadata": {},
   "outputs": [
    {
     "name": "stdout",
     "output_type": "stream",
     "text": [
      "   sepal-length  sepal-width  petal-length  petal-width\n",
      "0           5.1          3.5           1.4          0.2\n",
      "1           4.9          3.0           1.4          0.2\n",
      "2           4.7          3.2           1.3          0.2\n",
      "3           4.6          3.1           1.5          0.2\n",
      "4           5.0          3.6           1.4          0.2\n",
      "\n",
      "-------------------------------------------------------------------------\n",
      "Original Label            Predicted Label           Correct/Wrong            \n",
      "-------------------------------------------------------------------------\n",
      "   sepal-length  sepal-width  petal-length  petal-width\n",
      "0           5.1          3.5           1.4          0.2\n",
      "1           4.9          3.0           1.4          0.2\n",
      "2           4.7          3.2           1.3          0.2\n",
      "3           4.6          3.1           1.5          0.2\n",
      "4           5.0          3.6           1.4          0.2\n",
      "\n",
      "-------------------------------------------------------------------------\n",
      "Original Label            Predicted Label           Correct/Wrong            \n",
      "-------------------------------------------------------------------------\n"
     ]
    },
    {
     "name": "stderr",
     "output_type": "stream",
     "text": [
      "C:\\ProgramData\\Anaconda3\\lib\\site-packages\\sklearn\\neighbors\\_classification.py:228: FutureWarning: Unlike other reduction functions (e.g. `skew`, `kurtosis`), the default behavior of `mode` typically preserves the axis it acts along. In SciPy 1.11.0, this behavior will change: the default value of `keepdims` will become False, the `axis` over which the statistic is taken will be eliminated, and the value None will no longer be accepted. Set `keepdims` to True or False to avoid this warning.\n",
      "  mode, _ = stats.mode(_y[neigh_ind, k], axis=1)\n",
      "C:\\ProgramData\\Anaconda3\\lib\\site-packages\\sklearn\\neighbors\\_classification.py:228: FutureWarning: Unlike other reduction functions (e.g. `skew`, `kurtosis`), the default behavior of `mode` typically preserves the axis it acts along. In SciPy 1.11.0, this behavior will change: the default value of `keepdims` will become False, the `axis` over which the statistic is taken will be eliminated, and the value None will no longer be accepted. Set `keepdims` to True or False to avoid this warning.\n",
      "  mode, _ = stats.mode(_y[neigh_ind, k], axis=1)\n"
     ]
    }
   ],
   "source": [
    "import numpy as np\n",
    "import pandas as pd\n",
    "from sklearn.neighbors import KNeighborsClassifier\n",
    "from sklearn.model_selection import train_test_split\n",
    "from sklearn import metrics\n",
    "names = ['sepal-length', 'sepal-width', 'petal-length', 'petal-width', 'Class']\n",
    "# Read dataset to pandas dataframe\n",
    "dataset = pd.read_csv(\"8-dataset.csv\", names=names)\n",
    "X = dataset.iloc[:, :-1]\n",
    "y = dataset.iloc[:, -1]\n",
    "print(X.head())\n",
    "Xtrain, Xtest, ytrain, ytest = train_test_split(X, y, test_size=0.10)\n",
    "classifier = KNeighborsClassifier(n_neighbors=5).fit(Xtrain, ytrain)\n",
    "ypred = classifier.predict(Xtest)\n",
    "i = 0\n",
    "print (\"\\n-------------------------------------------------------------------------\")\n",
    "print ('%-25s %-25s %-25s' % ('Original Label', 'Predicted Label', 'Correct/Wrong'))\n",
    "print (\"-------------------------------------------------------------------------\")\n",
    "\n",
    "import pandas as pd\n",
    "from sklearn.neighbors import KNeighborsClassifier\n",
    "from sklearn.model_selection import train_test_split\n",
    "from sklearn import metrics\n",
    "names = ['sepal-length', 'sepal-width', 'petal-length', 'petal-width', 'Class']\n",
    "# Read dataset to pandas dataframe\n",
    "dataset = pd.read_csv(\"8-dataset.csv\", names=names)\n",
    "X = dataset.iloc[:, :-1]\n",
    "y = dataset.iloc[:, -1]\n",
    "print(X.head())\n",
    "Xtrain, Xtest, ytrain, ytest = train_test_split(X, y, test_size=0.10)\n",
    "classifier = KNeighborsClassifier(n_neighbors=5).fit(Xtrain, ytrain)\n",
    "ypred = classifier.predict(Xtest)\n",
    "i = 0\n",
    "print (\"\\n-------------------------------------------------------------------------\")\n",
    "print ('%-25s %-25s %-25s' % ('Original Label', 'Predicted Label', 'Correct/Wrong'))\n",
    "print (\"-------------------------------------------------------------------------\")\n"
   ]
  },
  {
   "cell_type": "code",
   "execution_count": 3,
   "id": "984575fd",
   "metadata": {},
   "outputs": [
    {
     "name": "stdout",
     "output_type": "stream",
     "text": [
      "   sepal-length  sepal-width  petal-length  petal-width\n",
      "0           5.1          3.5           1.4          0.2\n",
      "1           4.9          3.0           1.4          0.2\n",
      "2           4.7          3.2           1.3          0.2\n",
      "3           4.6          3.1           1.5          0.2\n",
      "4           5.0          3.6           1.4          0.2\n",
      "\n",
      "-------------------------------------------------------------------------\n",
      "Original Label            Predicted Label           Correct/Wrong            \n",
      "-------------------------------------------------------------------------\n",
      "Iris-versicolor           Iris-versicolor           Correct                  \n",
      "Iris-setosa               Iris-setosa               Correct                  \n",
      "Iris-virginica            Iris-virginica            Correct                  \n",
      "Iris-versicolor           Iris-versicolor           Correct                  \n",
      "Iris-versicolor           Iris-versicolor           Correct                  \n",
      "Iris-setosa               Iris-setosa               Correct                  \n",
      "Iris-versicolor           Iris-versicolor           Correct                  \n",
      "Iris-virginica            Iris-virginica            Correct                  \n",
      "Iris-versicolor           Iris-versicolor           Correct                  \n",
      "Iris-versicolor           Iris-versicolor           Correct                  \n",
      "Iris-virginica            Iris-virginica            Correct                  \n",
      "Iris-setosa               Iris-setosa               Correct                  \n",
      "Iris-setosa               Iris-setosa               Correct                  \n",
      "Iris-setosa               Iris-setosa               Correct                  \n",
      "Iris-setosa               Iris-setosa               Correct                  \n",
      "\n",
      "Accuracy: 1.0\n"
     ]
    },
    {
     "name": "stderr",
     "output_type": "stream",
     "text": [
      "C:\\ProgramData\\Anaconda3\\lib\\site-packages\\sklearn\\neighbors\\_classification.py:228: FutureWarning: Unlike other reduction functions (e.g. `skew`, `kurtosis`), the default behavior of `mode` typically preserves the axis it acts along. In SciPy 1.11.0, this behavior will change: the default value of `keepdims` will become False, the `axis` over which the statistic is taken will be eliminated, and the value None will no longer be accepted. Set `keepdims` to True or False to avoid this warning.\n",
      "  mode, _ = stats.mode(_y[neigh_ind, k], axis=1)\n"
     ]
    }
   ],
   "source": [
    "import numpy as np\n",
    "import pandas as pd\n",
    "from sklearn.neighbors import KNeighborsClassifier\n",
    "from sklearn.model_selection import train_test_split\n",
    "from sklearn import metrics\n",
    "\n",
    "# Define the column names for the dataset\n",
    "names = ['sepal-length', 'sepal-width', 'petal-length', 'petal-width', 'Class']\n",
    "\n",
    "# Read the dataset into a pandas dataframe\n",
    "dataset = pd.read_csv(\"8-dataset.csv\", names=names)\n",
    "\n",
    "# Split the dataset into features (X) and labels (y)\n",
    "X = dataset.iloc[:, :-1]\n",
    "y = dataset.iloc[:, -1]\n",
    "\n",
    "# Print the first few rows of the feature set\n",
    "print(X.head())\n",
    "\n",
    "# Split the data into training and testing sets\n",
    "Xtrain, Xtest, ytrain, ytest = train_test_split(X, y, test_size=0.10, random_state=42)\n",
    "\n",
    "# Create and train the KNeighborsClassifier\n",
    "classifier = KNeighborsClassifier(n_neighbors=5).fit(Xtrain, ytrain)\n",
    "\n",
    "# Make predictions on the test set\n",
    "ypred = classifier.predict(Xtest)\n",
    "\n",
    "# Print the results\n",
    "print(\"\\n-------------------------------------------------------------------------\")\n",
    "print('%-25s %-25s %-25s' % ('Original Label', 'Predicted Label', 'Correct/Wrong'))\n",
    "print(\"-------------------------------------------------------------------------\")\n",
    "\n",
    "# Loop through each prediction and compare with the original label\n",
    "for i in range(len(ypred)):\n",
    "    correct = 'Correct' if ytest.iloc[i] == ypred[i] else 'Wrong'\n",
    "    print('%-25s %-25s %-25s' % (ytest.iloc[i], ypred[i], correct))\n",
    "\n",
    "# Print the accuracy of the model\n",
    "print(\"\\nAccuracy:\", metrics.accuracy_score(ytest, ypred))\n"
   ]
  },
  {
   "cell_type": "code",
   "execution_count": 1,
   "id": "3588847e",
   "metadata": {},
   "outputs": [
    {
     "name": "stdout",
     "output_type": "stream",
     "text": [
      "Features:\n",
      "    sepal-length  sepal-width  petal-length  petal-width\n",
      "0           5.1          3.5           1.4          0.2\n",
      "1           4.9          3.0           1.4          0.2\n",
      "2           4.7          3.2           1.3          0.2\n",
      "3           4.6          3.1           1.5          0.2\n",
      "4           5.0          3.6           1.4          0.2\n",
      "\n",
      "-------------------------------------------------------------------------\n",
      "Original Label            Predicted Label           Correct/Wrong            \n",
      "-------------------------------------------------------------------------\n",
      "Iris-versicolor           Iris-versicolor           Correct                  \n",
      "Iris-setosa               Iris-setosa               Correct                  \n",
      "Iris-virginica            Iris-virginica            Correct                  \n",
      "Iris-versicolor           Iris-versicolor           Correct                  \n",
      "Iris-versicolor           Iris-versicolor           Correct                  \n",
      "Iris-setosa               Iris-setosa               Correct                  \n",
      "Iris-versicolor           Iris-versicolor           Correct                  \n",
      "Iris-virginica            Iris-virginica            Correct                  \n",
      "Iris-versicolor           Iris-versicolor           Correct                  \n",
      "Iris-versicolor           Iris-versicolor           Correct                  \n",
      "Iris-virginica            Iris-virginica            Correct                  \n",
      "Iris-setosa               Iris-setosa               Correct                  \n",
      "Iris-setosa               Iris-setosa               Correct                  \n",
      "Iris-setosa               Iris-setosa               Correct                  \n",
      "Iris-setosa               Iris-setosa               Correct                  \n",
      "-------------------------------------------------------------------------\n",
      "\n",
      "Confusion Matrix:\n",
      " [[6 0 0]\n",
      " [0 6 0]\n",
      " [0 0 3]]\n",
      "-------------------------------------------------------------------------\n",
      "\n",
      "Classification Report:\n",
      "                  precision    recall  f1-score   support\n",
      "\n",
      "    Iris-setosa       1.00      1.00      1.00         6\n",
      "Iris-versicolor       1.00      1.00      1.00         6\n",
      " Iris-virginica       1.00      1.00      1.00         3\n",
      "\n",
      "       accuracy                           1.00        15\n",
      "      macro avg       1.00      1.00      1.00        15\n",
      "   weighted avg       1.00      1.00      1.00        15\n",
      "\n",
      "-------------------------------------------------------------------------\n",
      "Accuracy of the classifier is 1.00\n",
      "-------------------------------------------------------------------------\n"
     ]
    },
    {
     "name": "stderr",
     "output_type": "stream",
     "text": [
      "C:\\ProgramData\\Anaconda3\\lib\\site-packages\\sklearn\\neighbors\\_classification.py:228: FutureWarning: Unlike other reduction functions (e.g. `skew`, `kurtosis`), the default behavior of `mode` typically preserves the axis it acts along. In SciPy 1.11.0, this behavior will change: the default value of `keepdims` will become False, the `axis` over which the statistic is taken will be eliminated, and the value None will no longer be accepted. Set `keepdims` to True or False to avoid this warning.\n",
      "  mode, _ = stats.mode(_y[neigh_ind, k], axis=1)\n"
     ]
    }
   ],
   "source": [
    "import numpy as np\n",
    "import pandas as pd\n",
    "from sklearn.neighbors import KNeighborsClassifier\n",
    "from sklearn.model_selection import train_test_split\n",
    "from sklearn import metrics\n",
    "\n",
    "# Define column names\n",
    "names = ['sepal-length', 'sepal-width', 'petal-length', 'petal-width', 'Class']\n",
    "\n",
    "# Read dataset into pandas dataframe\n",
    "dataset = pd.read_csv(\"8-dataset.csv\", names=names)\n",
    "\n",
    "# Separate features and target variable\n",
    "X = dataset.iloc[:, :-1]\n",
    "y = dataset.iloc[:, -1]\n",
    "\n",
    "# Display the first few rows of the features\n",
    "print(\"Features:\\n\", X.head())\n",
    "\n",
    "# Split the dataset into training and testing sets\n",
    "X_train, X_test, y_train, y_test = train_test_split(X, y, test_size=0.10, random_state=42)\n",
    "\n",
    "# Train the K-Nearest Neighbors classifier\n",
    "classifier = KNeighborsClassifier(n_neighbors=5)\n",
    "classifier.fit(X_train, y_train)\n",
    "\n",
    "# Predict the labels for the test set\n",
    "y_pred = classifier.predict(X_test)\n",
    "\n",
    "# Display the original and predicted labels\n",
    "print(\"\\n\" + \"-\"*73)\n",
    "print(f'{\"Original Label\":<25} {\"Predicted Label\":<25} {\"Correct/Wrong\":<25}')\n",
    "print(\"-\"*73)\n",
    "\n",
    "for i, label in enumerate(y_test):\n",
    "    correct_wrong = \"Correct\" if label == y_pred[i] else \"Wrong\"\n",
    "    print(f'{label:<25} {y_pred[i]:<25} {correct_wrong:<25}')\n",
    "\n",
    "print(\"-\"*73)\n",
    "\n",
    "# Display the confusion matrix\n",
    "print(\"\\nConfusion Matrix:\\n\", metrics.confusion_matrix(y_test, y_pred))\n",
    "print(\"-\"*73)\n",
    "\n",
    "# Display the classification report\n",
    "print(\"\\nClassification Report:\\n\", metrics.classification_report(y_test, y_pred))\n",
    "print(\"-\"*73)\n",
    "\n",
    "# Display the accuracy of the classifier\n",
    "accuracy = metrics.accuracy_score(y_test, y_pred)\n",
    "print(f'Accuracy of the classifier is {accuracy:.2f}')\n",
    "print(\"-\"*73)"
   ]
  },
  {
   "cell_type": "code",
   "execution_count": 2,
   "id": "e5109ea5",
   "metadata": {},
   "outputs": [],
   "source": [
    "import numpy as np\n",
    "import pandas as pd\n",
    "from sklearn.neighbors import KNeighborsClassifier\n",
    "from sklearn.model_selection import train_test_split\n",
    "from sklearn import metrics"
   ]
  },
  {
   "cell_type": "code",
   "execution_count": 3,
   "id": "edb8e836",
   "metadata": {},
   "outputs": [],
   "source": [
    "names = ['sepal-length','sepal-width','petal-length','petal-width','Class']\n"
   ]
  },
  {
   "cell_type": "code",
   "execution_count": 4,
   "id": "799b8f67",
   "metadata": {},
   "outputs": [],
   "source": [
    "dataset = pd.read_csv(\"8-dataset.csv\",names = names)"
   ]
  },
  {
   "cell_type": "code",
   "execution_count": 5,
   "id": "18a6f3fd",
   "metadata": {},
   "outputs": [
    {
     "data": {
      "text/html": [
       "<div>\n",
       "<style scoped>\n",
       "    .dataframe tbody tr th:only-of-type {\n",
       "        vertical-align: middle;\n",
       "    }\n",
       "\n",
       "    .dataframe tbody tr th {\n",
       "        vertical-align: top;\n",
       "    }\n",
       "\n",
       "    .dataframe thead th {\n",
       "        text-align: right;\n",
       "    }\n",
       "</style>\n",
       "<table border=\"1\" class=\"dataframe\">\n",
       "  <thead>\n",
       "    <tr style=\"text-align: right;\">\n",
       "      <th></th>\n",
       "      <th>sepal-length</th>\n",
       "      <th>sepal-width</th>\n",
       "      <th>petal-length</th>\n",
       "      <th>petal-width</th>\n",
       "      <th>Class</th>\n",
       "    </tr>\n",
       "  </thead>\n",
       "  <tbody>\n",
       "    <tr>\n",
       "      <th>0</th>\n",
       "      <td>5.1</td>\n",
       "      <td>3.5</td>\n",
       "      <td>1.4</td>\n",
       "      <td>0.2</td>\n",
       "      <td>Iris-setosa</td>\n",
       "    </tr>\n",
       "    <tr>\n",
       "      <th>1</th>\n",
       "      <td>4.9</td>\n",
       "      <td>3.0</td>\n",
       "      <td>1.4</td>\n",
       "      <td>0.2</td>\n",
       "      <td>Iris-setosa</td>\n",
       "    </tr>\n",
       "    <tr>\n",
       "      <th>2</th>\n",
       "      <td>4.7</td>\n",
       "      <td>3.2</td>\n",
       "      <td>1.3</td>\n",
       "      <td>0.2</td>\n",
       "      <td>Iris-setosa</td>\n",
       "    </tr>\n",
       "    <tr>\n",
       "      <th>3</th>\n",
       "      <td>4.6</td>\n",
       "      <td>3.1</td>\n",
       "      <td>1.5</td>\n",
       "      <td>0.2</td>\n",
       "      <td>Iris-setosa</td>\n",
       "    </tr>\n",
       "    <tr>\n",
       "      <th>4</th>\n",
       "      <td>5.0</td>\n",
       "      <td>3.6</td>\n",
       "      <td>1.4</td>\n",
       "      <td>0.2</td>\n",
       "      <td>Iris-setosa</td>\n",
       "    </tr>\n",
       "  </tbody>\n",
       "</table>\n",
       "</div>"
      ],
      "text/plain": [
       "   sepal-length  sepal-width  petal-length  petal-width        Class\n",
       "0           5.1          3.5           1.4          0.2  Iris-setosa\n",
       "1           4.9          3.0           1.4          0.2  Iris-setosa\n",
       "2           4.7          3.2           1.3          0.2  Iris-setosa\n",
       "3           4.6          3.1           1.5          0.2  Iris-setosa\n",
       "4           5.0          3.6           1.4          0.2  Iris-setosa"
      ]
     },
     "execution_count": 5,
     "metadata": {},
     "output_type": "execute_result"
    }
   ],
   "source": [
    "dataset.head()"
   ]
  },
  {
   "cell_type": "code",
   "execution_count": 6,
   "id": "258da45f",
   "metadata": {},
   "outputs": [],
   "source": [
    "x = dataset.iloc[:,:-1]\n",
    "y = dataset.iloc[:,-1]"
   ]
  },
  {
   "cell_type": "code",
   "execution_count": 7,
   "id": "40790119",
   "metadata": {},
   "outputs": [
    {
     "data": {
      "text/html": [
       "<div>\n",
       "<style scoped>\n",
       "    .dataframe tbody tr th:only-of-type {\n",
       "        vertical-align: middle;\n",
       "    }\n",
       "\n",
       "    .dataframe tbody tr th {\n",
       "        vertical-align: top;\n",
       "    }\n",
       "\n",
       "    .dataframe thead th {\n",
       "        text-align: right;\n",
       "    }\n",
       "</style>\n",
       "<table border=\"1\" class=\"dataframe\">\n",
       "  <thead>\n",
       "    <tr style=\"text-align: right;\">\n",
       "      <th></th>\n",
       "      <th>sepal-length</th>\n",
       "      <th>sepal-width</th>\n",
       "      <th>petal-length</th>\n",
       "      <th>petal-width</th>\n",
       "    </tr>\n",
       "  </thead>\n",
       "  <tbody>\n",
       "    <tr>\n",
       "      <th>0</th>\n",
       "      <td>5.1</td>\n",
       "      <td>3.5</td>\n",
       "      <td>1.4</td>\n",
       "      <td>0.2</td>\n",
       "    </tr>\n",
       "    <tr>\n",
       "      <th>1</th>\n",
       "      <td>4.9</td>\n",
       "      <td>3.0</td>\n",
       "      <td>1.4</td>\n",
       "      <td>0.2</td>\n",
       "    </tr>\n",
       "    <tr>\n",
       "      <th>2</th>\n",
       "      <td>4.7</td>\n",
       "      <td>3.2</td>\n",
       "      <td>1.3</td>\n",
       "      <td>0.2</td>\n",
       "    </tr>\n",
       "    <tr>\n",
       "      <th>3</th>\n",
       "      <td>4.6</td>\n",
       "      <td>3.1</td>\n",
       "      <td>1.5</td>\n",
       "      <td>0.2</td>\n",
       "    </tr>\n",
       "    <tr>\n",
       "      <th>4</th>\n",
       "      <td>5.0</td>\n",
       "      <td>3.6</td>\n",
       "      <td>1.4</td>\n",
       "      <td>0.2</td>\n",
       "    </tr>\n",
       "  </tbody>\n",
       "</table>\n",
       "</div>"
      ],
      "text/plain": [
       "   sepal-length  sepal-width  petal-length  petal-width\n",
       "0           5.1          3.5           1.4          0.2\n",
       "1           4.9          3.0           1.4          0.2\n",
       "2           4.7          3.2           1.3          0.2\n",
       "3           4.6          3.1           1.5          0.2\n",
       "4           5.0          3.6           1.4          0.2"
      ]
     },
     "execution_count": 7,
     "metadata": {},
     "output_type": "execute_result"
    }
   ],
   "source": [
    "x.head()"
   ]
  },
  {
   "cell_type": "code",
   "execution_count": 8,
   "id": "b56d4467",
   "metadata": {},
   "outputs": [],
   "source": [
    "x_train,x_test,y_train,y_test = train_test_split(x,y,test_size = 0.10,random_state = 42)"
   ]
  },
  {
   "cell_type": "code",
   "execution_count": 9,
   "id": "64268192",
   "metadata": {},
   "outputs": [
    {
     "data": {
      "text/plain": [
       "KNeighborsClassifier()"
      ]
     },
     "execution_count": 9,
     "metadata": {},
     "output_type": "execute_result"
    }
   ],
   "source": [
    "classifier = KNeighborsClassifier(n_neighbors=5)\n",
    "classifier.fit(x_train,y_train)"
   ]
  },
  {
   "cell_type": "code",
   "execution_count": 10,
   "id": "c388a9f0",
   "metadata": {},
   "outputs": [
    {
     "name": "stderr",
     "output_type": "stream",
     "text": [
      "C:\\ProgramData\\Anaconda3\\lib\\site-packages\\sklearn\\neighbors\\_classification.py:228: FutureWarning: Unlike other reduction functions (e.g. `skew`, `kurtosis`), the default behavior of `mode` typically preserves the axis it acts along. In SciPy 1.11.0, this behavior will change: the default value of `keepdims` will become False, the `axis` over which the statistic is taken will be eliminated, and the value None will no longer be accepted. Set `keepdims` to True or False to avoid this warning.\n",
      "  mode, _ = stats.mode(_y[neigh_ind, k], axis=1)\n"
     ]
    }
   ],
   "source": [
    "y_pred = classifier.predict(x_test)"
   ]
  },
  {
   "cell_type": "code",
   "execution_count": 24,
   "id": "8d8e8b93",
   "metadata": {},
   "outputs": [
    {
     "name": "stdout",
     "output_type": "stream",
     "text": [
      "\n",
      "-------------------------------------------------------------------------\n",
      "original_label           predicted_label          correct/wrong            \n",
      "-------------------------------------------------------------------------\n",
      "Iris-versicolor          Iris-versicolor          Correct                  \n",
      "Iris-setosa              Iris-setosa              Correct                  \n",
      "Iris-virginica           Iris-virginica           Correct                  \n",
      "Iris-versicolor          Iris-versicolor          Correct                  \n",
      "Iris-versicolor          Iris-versicolor          Correct                  \n",
      "Iris-setosa              Iris-setosa              Correct                  \n",
      "Iris-versicolor          Iris-versicolor          Correct                  \n",
      "Iris-virginica           Iris-virginica           Correct                  \n",
      "Iris-versicolor          Iris-versicolor          Correct                  \n",
      "Iris-versicolor          Iris-versicolor          Correct                  \n",
      "Iris-virginica           Iris-virginica           Correct                  \n",
      "Iris-setosa              Iris-setosa              Correct                  \n",
      "Iris-setosa              Iris-setosa              Correct                  \n",
      "Iris-setosa              Iris-setosa              Correct                  \n",
      "Iris-setosa              Iris-setosa              Correct                  \n",
      "-------------------------------------------------------------------------\n",
      "confusion_matrix [[6 0 0]\n",
      " [0 6 0]\n",
      " [0 0 3]]\n",
      "classification_report                  precision    recall  f1-score   support\n",
      "\n",
      "    Iris-setosa       1.00      1.00      1.00         6\n",
      "Iris-versicolor       1.00      1.00      1.00         6\n",
      " Iris-virginica       1.00      1.00      1.00         3\n",
      "\n",
      "       accuracy                           1.00        15\n",
      "      macro avg       1.00      1.00      1.00        15\n",
      "   weighted avg       1.00      1.00      1.00        15\n",
      "\n",
      "accuracy 1.0\n"
     ]
    }
   ],
   "source": [
    "print('\\n'+'-'*73)\n",
    "print(f'{\"original_label\":<25}{\"predicted_label\":<25}{\"correct/wrong\":<25}')\n",
    "print('-'*73)\n",
    "\n",
    "for i,label in enumerate(y_test):\n",
    "    correct_wrong = \"Correct\" if label==y_pred[i] else \"Wrong\"\n",
    "    print(f'{label:<25}{y_pred[i]:<25}{correct_wrong:<25}')\n",
    "\n",
    "print('-'*73)\n",
    "print(\"confusion_matrix\",metrics.confusion_matrix(y_test,y_pred))\n",
    "print(\"classification_report\",metrics.classification_report(y_test,y_pred))\n",
    "print(\"accuracy\",metrics.accuracy_score(y_test,y_pred))\n"
   ]
  },
  {
   "cell_type": "code",
   "execution_count": null,
   "id": "6ce8c9a8",
   "metadata": {},
   "outputs": [],
   "source": []
  }
 ],
 "metadata": {
  "kernelspec": {
   "display_name": "Python 3 (ipykernel)",
   "language": "python",
   "name": "python3"
  },
  "language_info": {
   "codemirror_mode": {
    "name": "ipython",
    "version": 3
   },
   "file_extension": ".py",
   "mimetype": "text/x-python",
   "name": "python",
   "nbconvert_exporter": "python",
   "pygments_lexer": "ipython3",
   "version": "3.9.13"
  }
 },
 "nbformat": 4,
 "nbformat_minor": 5
}
