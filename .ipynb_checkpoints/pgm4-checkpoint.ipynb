{
 "cells": [
  {
   "cell_type": "code",
   "execution_count": 3,
   "id": "6d35b74d-854f-4996-99c5-878f092df9aa",
   "metadata": {},
   "outputs": [
    {
     "name": "stdout",
     "output_type": "stream",
     "text": [
      "Input:\n",
      " [[0.66666667 1.        ]\n",
      " [0.33333333 0.55555556]\n",
      " [1.         0.66666667]]\n",
      "Actual Output:\n",
      " [[0.92]\n",
      " [0.86]\n",
      " [0.89]]\n",
      "Predicted Output:\n",
      " [[0.89479732]\n",
      " [0.88048873]\n",
      " [0.89393193]]\n"
     ]
    }
   ],
   "source": [
    "import numpy as np \n",
    "\n",
    "X = np.array([[2, 9], [1, 5], [3, 6]], dtype=float)\n",
    "y = np.array([[92], [86], [89]], dtype=float)\n",
    "\n",
    "X = X / np.max(X, axis=0) \n",
    "y = y / 100  \n",
    "\n",
    "def sigmoid(x):\n",
    "    return 1 / (1 + np.exp(-x))\n",
    "\n",
    "def d_sigmoid(x):\n",
    "    return x * (1 - x)\n",
    "\n",
    "epochs = 5000  \n",
    "lr = 0.1  \n",
    "in_neurons = X.shape[1] \n",
    "hid_neurons = 3  \n",
    "out_neurons = 1 \n",
    "\n",
    "w1 = np.random.uniform(size=(in_neurons, hid_neurons))\n",
    "b1 = np.random.uniform(size=(1, hid_neurons))\n",
    "w2 = np.random.uniform(size=(hid_neurons, out_neurons))\n",
    "b2 = np.random.uniform(size=(1, out_neurons))\n",
    "\n",
    "for epoch in range(epochs):\n",
    "\n",
    "    h_in = np.dot(X, w1) + b1 \n",
    "    h_out = sigmoid(h_in) \n",
    "    \n",
    "    o_in = np.dot(h_out, w2) + b2  \n",
    "    o_out = sigmoid(o_in)  \n",
    "    \n",
    "    e_out = y - o_out \n",
    "    d_out = e_out * d_sigmoid(o_out)  \n",
    "    \n",
    "    e_hid = d_out.dot(w2.T) \n",
    "    d_hid = e_hid * d_sigmoid(h_out)  \n",
    "    \n",
    "    w2 += h_out.T.dot(d_out) * lr\n",
    "    w1 += X.T.dot(d_hid) * lr\n",
    "    b2 += np.sum(d_out, axis=0) * lr\n",
    "    b1 += np.sum(d_hid, axis=0) * lr\n",
    "\n",
    "print(\"Input:\\n\", X)\n",
    "print(\"Actual Output:\\n\", y)\n",
    "print(\"Predicted Output:\\n\", o_out)"
   ]
  },
  {
   "cell_type": "code",
   "execution_count": null,
   "id": "1c1203d4-f317-4014-9c06-869de3ceb172",
   "metadata": {},
   "outputs": [],
   "source": []
  }
 ],
 "metadata": {
  "kernelspec": {
   "display_name": "Python 3 (ipykernel)",
   "language": "python",
   "name": "python3"
  },
  "language_info": {
   "codemirror_mode": {
    "name": "ipython",
    "version": 3
   },
   "file_extension": ".py",
   "mimetype": "text/x-python",
   "name": "python",
   "nbconvert_exporter": "python",
   "pygments_lexer": "ipython3",
   "version": "3.11.7"
  }
 },
 "nbformat": 4,
 "nbformat_minor": 5
}
