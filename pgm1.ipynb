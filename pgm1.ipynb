{
 "cells": [
  {
   "cell_type": "code",
   "execution_count": 3,
   "id": "520cc27f-05ce-424e-9dfd-bf663c4206fb",
   "metadata": {},
   "outputs": [
    {
     "name": "stdout",
     "output_type": "stream",
     "text": [
      "     Sky AirTemp Humidity    Wind Water Forecast EnjoySport\n",
      "0  Sunny    Warm   Normal  Strong  Warm     Same        yes\n",
      "1  Sunny    Warm     High  Strong  Warm     Same        yes\n",
      "2  Rainy    Cold     High  Strong  Warm   Change         no\n",
      "3  Sunny    Warm     High  Strong  Cool   Change        yes\n",
      "\n",
      "Shape of data set:-  (4, 7)\n"
     ]
    }
   ],
   "source": [
    "import pandas as pd\n",
    "import numpy as np\n",
    "\n",
    "df = pd.read_csv(\"ws.csv\")\n",
    "print(df)\n",
    "print(\"\\nShape of data set:- \", df.shape)"
   ]
  },
  {
   "cell_type": "code",
   "execution_count": 5,
   "id": "4b334158-4a9e-471f-a90f-3dbb980ae382",
   "metadata": {},
   "outputs": [
    {
     "name": "stdout",
     "output_type": "stream",
     "text": [
      "\n",
      "Features in the dataset:\n",
      " [['Sunny' 'Warm' 'Normal' 'Strong' 'Warm' 'Same']\n",
      " ['Sunny' 'Warm' 'High' 'Strong' 'Warm' 'Same']\n",
      " ['Rainy' 'Cold' 'High' 'Strong' 'Warm' 'Change']\n",
      " ['Sunny' 'Warm' 'High' 'Strong' 'Cool' 'Change']]\n",
      "\n",
      "Shape of Features:- \n",
      " (4, 6)\n",
      "\n",
      "Target Concept\n",
      " ['yes' 'yes' 'no' 'yes']\n",
      "\n",
      "Shape of the target :- \n",
      " (4,)\n"
     ]
    }
   ],
   "source": [
    "features = np.array(df)[:, :-1]\n",
    "print(\"\\nFeatures in the dataset:\\n\", features)\n",
    "print(\"\\nShape of Features:- \\n\", features.shape)\n",
    "\n",
    "target = np.array(df)[:, -1]\n",
    "print(\"\\nTarget Concept\\n\", target)\n",
    "print(\"\\nShape of the target :- \\n\", target.shape)"
   ]
  },
  {
   "cell_type": "code",
   "execution_count": 21,
   "id": "10f2a6ac-bc60-420d-9083-5652751f04d2",
   "metadata": {},
   "outputs": [
    {
     "name": "stdout",
     "output_type": "stream",
     "text": [
      "['Sunny' 'Warm' 'Normal' 'Strong' 'Warm' 'Same']\n"
     ]
    }
   ],
   "source": [
    "hypothesis = None\n",
    "for i in range(len(target)):\n",
    "   if target[i] == 'yes':\n",
    "      hypothesis = features[i].copy()\n",
    "      break\n",
    "print(hypothesis)"
   ]
  },
  {
   "cell_type": "code",
   "execution_count": 23,
   "id": "f58b09f0-baa5-4b49-8833-0b77104ce3cd",
   "metadata": {},
   "outputs": [
    {
     "name": "stdout",
     "output_type": "stream",
     "text": [
      "\n",
      "\n",
      "Final hypothesis: ['Sunny' 'Warm' '?' 'Strong' 'Warm' 'Same']\n",
      "\n",
      "\n",
      "Final hypothesis: ['Sunny' 'Warm' '?' 'Strong' 'Warm' 'Same']\n",
      "\n",
      "\n",
      "Final hypothesis: ['Sunny' 'Warm' '?' 'Strong' '?' 'Same']\n",
      "\n",
      "\n",
      "Final hypothesis: ['Sunny' 'Warm' '?' 'Strong' '?' '?']\n"
     ]
    }
   ],
   "source": [
    "for i in range(len(features)):\n",
    "  if target[i] == 'yes':\n",
    "     for x in range(len(hypothesis)):\n",
    "         if features[i][x] != hypothesis[x]:\n",
    "            hypothesis[x] = '?'\n",
    "            print(\"\\n\\nFinal hypothesis:\", hypothesis)"
   ]
  },
  {
   "cell_type": "code",
   "execution_count": null,
   "id": "9dea159e-1d7e-47a2-bc1a-734efdb407df",
   "metadata": {},
   "outputs": [],
   "source": []
  }
 ],
 "metadata": {
  "kernelspec": {
   "display_name": "Python 3 (ipykernel)",
   "language": "python",
   "name": "python3"
  },
  "language_info": {
   "codemirror_mode": {
    "name": "ipython",
    "version": 3
   },
   "file_extension": ".py",
   "mimetype": "text/x-python",
   "name": "python",
   "nbconvert_exporter": "python",
   "pygments_lexer": "ipython3",
   "version": "3.11.7"
  }
 },
 "nbformat": 4,
 "nbformat_minor": 5
}
